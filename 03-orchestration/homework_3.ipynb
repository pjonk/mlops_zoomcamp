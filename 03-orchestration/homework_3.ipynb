{
 "cells": [
  {
   "cell_type": "markdown",
   "id": "a990281b",
   "metadata": {},
   "source": [
    "# Homework 3"
   ]
  },
  {
   "cell_type": "markdown",
   "id": "83681f9f",
   "metadata": {},
   "source": [
    "## Question 1"
   ]
  },
  {
   "cell_type": "markdown",
   "id": "11b7602d",
   "metadata": {},
   "source": [
    "airflow"
   ]
  },
  {
   "cell_type": "markdown",
   "id": "1d98ed33",
   "metadata": {},
   "source": [
    "## Question 2"
   ]
  },
  {
   "cell_type": "markdown",
   "id": "20103389",
   "metadata": {
    "vscode": {
     "languageId": "plaintext"
    }
   },
   "source": [
    "3.0.1"
   ]
  },
  {
   "cell_type": "markdown",
   "id": "ffab281d",
   "metadata": {},
   "source": [
    "## Question 3"
   ]
  },
  {
   "cell_type": "markdown",
   "id": "2c86ac2f",
   "metadata": {
    "vscode": {
     "languageId": "plaintext"
    }
   },
   "source": [
    "Total rows in raw training data: 3403766\n"
   ]
  },
  {
   "cell_type": "markdown",
   "id": "7cdb748d",
   "metadata": {},
   "source": [
    "## Question 4"
   ]
  },
  {
   "cell_type": "markdown",
   "id": "69285b0a",
   "metadata": {
    "vscode": {
     "languageId": "plaintext"
    }
   },
   "source": [
    "Total rows in transformed training data: 3316216"
   ]
  },
  {
   "cell_type": "markdown",
   "id": "147400ed",
   "metadata": {},
   "source": [
    "## Question 5"
   ]
  },
  {
   "cell_type": "markdown",
   "id": "e516855e",
   "metadata": {
    "vscode": {
     "languageId": "plaintext"
    }
   },
   "source": [
    "intercept: 24.778964270944773"
   ]
  },
  {
   "cell_type": "markdown",
   "id": "43161291",
   "metadata": {},
   "source": [
    "## Question 6"
   ]
  },
  {
   "cell_type": "markdown",
   "id": "4f51f5f1",
   "metadata": {},
   "source": [
    "model_size_bytes: 4500"
   ]
  },
  {
   "cell_type": "markdown",
   "id": "8b112b15",
   "metadata": {},
   "source": []
  }
 ],
 "metadata": {
  "language_info": {
   "name": "python"
  }
 },
 "nbformat": 4,
 "nbformat_minor": 5
}
