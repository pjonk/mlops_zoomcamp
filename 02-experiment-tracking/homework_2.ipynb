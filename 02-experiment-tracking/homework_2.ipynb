{
 "cells": [
  {
   "cell_type": "markdown",
   "id": "19853adb-b2de-48cd-a5dc-02c8846f76bb",
   "metadata": {},
   "source": [
    "# Homework 2"
   ]
  },
  {
   "cell_type": "markdown",
   "id": "db5fd595-0509-482a-8014-d04d861007f3",
   "metadata": {},
   "source": [
    "## Question 1"
   ]
  },
  {
   "cell_type": "code",
   "execution_count": 2,
   "id": "08140b39-71ce-4d74-8d64-824374d9e966",
   "metadata": {},
   "outputs": [
    {
     "name": "stdout",
     "output_type": "stream",
     "text": [
      "mlflow, version 2.22.1\n"
     ]
    }
   ],
   "source": [
    "!mlflow --version"
   ]
  },
  {
   "cell_type": "markdown",
   "id": "12631249-10e0-4436-a938-61ea98d8d781",
   "metadata": {},
   "source": [
    "## Question 2"
   ]
  },
  {
   "cell_type": "code",
   "execution_count": 8,
   "id": "a989a17c-acd3-49ab-957c-48c8cb0dc409",
   "metadata": {
    "collapsed": true,
    "jupyter": {
     "outputs_hidden": true
    },
    "scrolled": true
   },
   "outputs": [
    {
     "name": "stdout",
     "output_type": "stream",
     "text": [
      "mkdir: cannot create directory ‘data’: File exists\n",
      "--2025-06-07 08:53:07--  https://d37ci6vzurychx.cloudfront.net/trip-data/green_tripdata_2023-01.parquet\n",
      "Resolving d37ci6vzurychx.cloudfront.net (d37ci6vzurychx.cloudfront.net)... 18.239.38.83, 18.239.38.147, 18.239.38.181, ...\n",
      "Connecting to d37ci6vzurychx.cloudfront.net (d37ci6vzurychx.cloudfront.net)|18.239.38.83|:443... connected.\n",
      "HTTP request sent, awaiting response... 200 OK\n",
      "Length: 1427002 (1.4M) [binary/octet-stream]\n",
      "Saving to: ‘data/green_tripdata_2023-01.parquet’\n",
      "\n",
      "green_tripdata_2023 100%[===================>]   1.36M  --.-KB/s    in 0.008s  \n",
      "\n",
      "2025-06-07 08:53:07 (162 MB/s) - ‘data/green_tripdata_2023-01.parquet’ saved [1427002/1427002]\n",
      "\n",
      "--2025-06-07 08:53:07--  https://d37ci6vzurychx.cloudfront.net/trip-data/green_tripdata_2023-02.parquet\n",
      "Resolving d37ci6vzurychx.cloudfront.net (d37ci6vzurychx.cloudfront.net)... 18.239.38.83, 18.239.38.181, 18.239.38.163, ...\n",
      "Connecting to d37ci6vzurychx.cloudfront.net (d37ci6vzurychx.cloudfront.net)|18.239.38.83|:443... connected.\n",
      "HTTP request sent, awaiting response... 200 OK\n",
      "Length: 1533740 (1.5M) [binary/octet-stream]\n",
      "Saving to: ‘data/green_tripdata_2023-02.parquet’\n",
      "\n",
      "green_tripdata_2023 100%[===================>]   1.46M  --.-KB/s    in 0.008s  \n",
      "\n",
      "2025-06-07 08:53:07 (184 MB/s) - ‘data/green_tripdata_2023-02.parquet’ saved [1533740/1533740]\n",
      "\n",
      "--2025-06-07 08:53:08--  https://d37ci6vzurychx.cloudfront.net/trip-data/green_tripdata_2023-03.parquet\n",
      "Resolving d37ci6vzurychx.cloudfront.net (d37ci6vzurychx.cloudfront.net)... 18.239.38.163, 18.239.38.147, 18.239.38.181, ...\n",
      "Connecting to d37ci6vzurychx.cloudfront.net (d37ci6vzurychx.cloudfront.net)|18.239.38.163|:443... connected.\n",
      "HTTP request sent, awaiting response... 200 OK\n",
      "Length: 1730999 (1.7M) [binary/octet-stream]\n",
      "Saving to: ‘data/green_tripdata_2023-03.parquet’\n",
      "\n",
      "green_tripdata_2023 100%[===================>]   1.65M  --.-KB/s    in 0.007s  \n",
      "\n",
      "2025-06-07 08:53:08 (221 MB/s) - ‘data/green_tripdata_2023-03.parquet’ saved [1730999/1730999]\n",
      "\n"
     ]
    }
   ],
   "source": [
    "!mkdir data\n",
    "!wget -P data https://d37ci6vzurychx.cloudfront.net/trip-data/green_tripdata_2023-01.parquet\n",
    "!wget -P data https://d37ci6vzurychx.cloudfront.net/trip-data/green_tripdata_2023-02.parquet\n",
    "!wget -P data https://d37ci6vzurychx.cloudfront.net/trip-data/green_tripdata_2023-03.parquet"
   ]
  },
  {
   "cell_type": "code",
   "execution_count": 9,
   "id": "a39397e6-2c32-4f9e-9509-2eeca9808f61",
   "metadata": {},
   "outputs": [],
   "source": [
    "!python preprocess_data.py --raw_data_path data --dest_path ./output"
   ]
  },
  {
   "cell_type": "code",
   "execution_count": 11,
   "id": "28206387-a034-4a13-8aba-9eed4a7c7e75",
   "metadata": {},
   "outputs": [
    {
     "name": "stdout",
     "output_type": "stream",
     "text": [
      "4\n"
     ]
    }
   ],
   "source": [
    "!ls -1 output | wc -l"
   ]
  },
  {
   "cell_type": "markdown",
   "id": "19fbd1c2-e6d5-4a0d-9adb-a9b82fce1f64",
   "metadata": {},
   "source": [
    "## Question 3"
   ]
  },
  {
   "cell_type": "markdown",
   "id": "9a513680-366d-4a32-8152-052428a93ec4",
   "metadata": {},
   "source": [
    "Run local server with:\n",
    "\n",
    "`mlflow server --host 127.0.0.1 --port 5000`"
   ]
  },
  {
   "cell_type": "code",
   "execution_count": 14,
   "id": "4a8f57cf-0a35-4bfc-a2c7-4407aee64b54",
   "metadata": {},
   "outputs": [
    {
     "name": "stdout",
     "output_type": "stream",
     "text": [
      "2025/06/07 09:29:06 WARNING mlflow.utils.autologging_utils: MLflow sklearn autologging is known to be compatible with 0.24.1 <= scikit-learn <= 1.6.1, but the installed version is 1.7.0. If you encounter errors during autologging, try upgrading / downgrading scikit-learn to a compatible version, or try upgrading MLflow.\n",
      "2025/06/07 09:29:06 INFO mlflow.tracking.fluent: Autologging successfully enabled for sklearn.\n",
      "2025/06/07 09:29:06 INFO mlflow.tracking.fluent: Experiment with name 'Question 3' does not exist. Creating a new experiment.\n",
      "2025/06/07 09:29:25 WARNING mlflow.utils.environment: Failed to resolve installed pip version. ``pip`` will be added to conda.yaml environment spec without a version specifier.\n",
      "🏃 View run bright-asp-972 at: http://localhost:5000/#/experiments/376998915187664384/runs/8e023b7acbf14736a91cc32a623ca94e\n",
      "🧪 View experiment at: http://localhost:5000/#/experiments/376998915187664384\n"
     ]
    }
   ],
   "source": [
    "! python train.py"
   ]
  },
  {
   "cell_type": "code",
   "execution_count": 18,
   "id": "7ddee6f3-bc07-480d-9a0c-e7bb4cae8c06",
   "metadata": {},
   "outputs": [
    {
     "name": "stdout",
     "output_type": "stream",
     "text": [
      "Value of parameter 'min_samples_split': 2\n"
     ]
    }
   ],
   "source": [
    "import mlflow\n",
    "\n",
    "# Replace with your run ID\n",
    "run_id = \"8e023b7acbf14736a91cc32a623ca94e\"\n",
    "\n",
    "# Get the run object\n",
    "run = mlflow.get_run(run_id)\n",
    "\n",
    "# Access a specific parameter\n",
    "param_name = \"min_samples_split\"\n",
    "param_value = run.data.params.get(param_name)\n",
    "\n",
    "print(f\"Value of parameter '{param_name}': {param_value}\")"
   ]
  },
  {
   "cell_type": "markdown",
   "id": "e218d167-c6eb-44a8-b687-dda5500e9bf1",
   "metadata": {},
   "source": [
    "## Question 4"
   ]
  },
  {
   "cell_type": "markdown",
   "id": "2e78a9c6-a8ce-46f7-a822-775912c39265",
   "metadata": {},
   "source": [
    "Start mlflow with SQL backend and artifacts storage: \n",
    "\n",
    "`mlflow server --backend-store-uri sqlite:///mlflow.db --default-artifact-root ./mlruns_artifacts --host 127.0.0.1 --port 5000`"
   ]
  },
  {
   "cell_type": "markdown",
   "id": "898f7f7e-791f-4cd8-a28f-acf7734d082b",
   "metadata": {},
   "source": [
    "## Question 5"
   ]
  },
  {
   "cell_type": "code",
   "execution_count": 2,
   "id": "c47f1f34-80db-45d9-ba02-d5550780c7e4",
   "metadata": {
    "collapsed": true,
    "jupyter": {
     "outputs_hidden": true
    },
    "scrolled": true
   },
   "outputs": [
    {
     "name": "stdout",
     "output_type": "stream",
     "text": [
      "/workspaces/mlops_zoomcamp/02-experiment-tracking/.venv/lib/python3.12/site-packages/hyperopt/atpe.py:19: UserWarning: pkg_resources is deprecated as an API. See https://setuptools.pypa.io/en/latest/pkg_resources.html. The pkg_resources package is slated for removal as early as 2025-11-30. Refrain from using this package or pin to Setuptools<81.\n",
      "  import pkg_resources\n",
      "2025/06/07 12:23:31 INFO mlflow.tracking.fluent: Experiment with name 'random-forest-hyperopt' does not exist. Creating a new experiment.\n",
      "🏃 View run colorful-moose-795 at: http://127.0.0.1:5000/#/experiments/1/runs/f13f07da4295404d853aebb1d8eb41c8\n",
      "\n",
      "🧪 View experiment at: http://127.0.0.1:5000/#/experiments/1                    \n",
      "\n",
      "🏃 View run rare-kite-547 at: http://127.0.0.1:5000/#/experiments/1/runs/933e227345904066b0ae83f2ee0892e1\n",
      "\n",
      "🧪 View experiment at: http://127.0.0.1:5000/#/experiments/1                    \n",
      "\n",
      "🏃 View run omniscient-goat-632 at: http://127.0.0.1:5000/#/experiments/1/runs/85c7b93ed633480fb4057cdd74c0e068\n",
      "\n",
      "🧪 View experiment at: http://127.0.0.1:5000/#/experiments/1                    \n",
      "\n",
      "🏃 View run puzzled-tern-88 at: http://127.0.0.1:5000/#/experiments/1/runs/d21cd47a5c49481982ad13950b6254f0\n",
      "\n",
      "🧪 View experiment at: http://127.0.0.1:5000/#/experiments/1                    \n",
      "\n",
      "🏃 View run orderly-mink-758 at: http://127.0.0.1:5000/#/experiments/1/runs/00644eba670345c8aa8b41745de0549c\n",
      "\n",
      "🧪 View experiment at: http://127.0.0.1:5000/#/experiments/1                    \n",
      "\n",
      "🏃 View run kindly-bird-996 at: http://127.0.0.1:5000/#/experiments/1/runs/3c2b05c5ae754e33a44ce7e3a097e567\n",
      "\n",
      "🧪 View experiment at: http://127.0.0.1:5000/#/experiments/1                    \n",
      "\n",
      "🏃 View run thoughtful-midge-518 at: http://127.0.0.1:5000/#/experiments/1/runs/22d8886b020f4b4e9007215daacd6dc5\n",
      "\n",
      "🧪 View experiment at: http://127.0.0.1:5000/#/experiments/1                    \n",
      "\n",
      "🏃 View run upset-koi-394 at: http://127.0.0.1:5000/#/experiments/1/runs/ca1927985db248f39da09b3b4801daa0\n",
      "\n",
      "🧪 View experiment at: http://127.0.0.1:5000/#/experiments/1                    \n",
      "\n",
      "🏃 View run beautiful-mouse-738 at: http://127.0.0.1:5000/#/experiments/1/runs/ebf472396c6c45be9521c84ea28733c4\n",
      "\n",
      "🧪 View experiment at: http://127.0.0.1:5000/#/experiments/1                    \n",
      "\n",
      "🏃 View run unique-snail-825 at: http://127.0.0.1:5000/#/experiments/1/runs/2b519daeb75f4d3ab8907418d41fd84c\n",
      "\n",
      "🧪 View experiment at: http://127.0.0.1:5000/#/experiments/1                    \n",
      "\n",
      "🏃 View run marvelous-kite-838 at: http://127.0.0.1:5000/#/experiments/1/runs/f0f464a2b57e450c8a4eb31798ba90af\n",
      "\n",
      "🧪 View experiment at: http://127.0.0.1:5000/#/experiments/1                    \n",
      "\n",
      "🏃 View run thundering-stork-245 at: http://127.0.0.1:5000/#/experiments/1/runs/c4588ffbb55f4014961cb9c55cdf7c64\n",
      "\n",
      "🧪 View experiment at: http://127.0.0.1:5000/#/experiments/1                    \n",
      "\n",
      "🏃 View run suave-roo-512 at: http://127.0.0.1:5000/#/experiments/1/runs/a67b91a16b1248fd9d552cf46252977e\n",
      "\n",
      "🧪 View experiment at: http://127.0.0.1:5000/#/experiments/1                    \n",
      "\n",
      "🏃 View run brawny-bat-723 at: http://127.0.0.1:5000/#/experiments/1/runs/c9233f7f64dd4ec090b63c18ed7c0ea1\n",
      "\n",
      "🧪 View experiment at: http://127.0.0.1:5000/#/experiments/1                    \n",
      "\n",
      "🏃 View run bright-gnat-115 at: http://127.0.0.1:5000/#/experiments/1/runs/70a3bd1eed50475788fbece02ba3ccdc\n",
      "\n",
      "🧪 View experiment at: http://127.0.0.1:5000/#/experiments/1                    \n",
      "\n",
      "100%|██████████| 15/15 [01:07<00:00,  4.52s/trial, best loss: 5.335419588556921]\n"
     ]
    }
   ],
   "source": [
    "!python hpo.py"
   ]
  },
  {
   "cell_type": "code",
   "execution_count": 7,
   "id": "e08c8427-b730-40db-8fd3-cafab55e526f",
   "metadata": {},
   "outputs": [
    {
     "name": "stdout",
     "output_type": "stream",
     "text": [
      "Best validation RMSE: 5.335419588556921\n",
      "Run ID: f0f464a2b57e450c8a4eb31798ba90af\n"
     ]
    }
   ],
   "source": [
    "import mlflow\n",
    "from mlflow.tracking import MlflowClient\n",
    "\n",
    "client = MlflowClient()\n",
    "\n",
    "experiment_name = \"random-forest-hyperopt\"\n",
    "experiment = client.get_experiment_by_name(experiment_name)\n",
    "\n",
    "if experiment is None:\n",
    "    raise ValueError(f\"Experiment '{experiment_name}' not found.\")\n",
    "\n",
    "experiment_id = experiment.experiment_id\n",
    "\n",
    "# Just sort by metric; MLflow will automatically exclude runs without this metric\n",
    "runs = client.search_runs(\n",
    "    experiment_ids=[experiment_id],\n",
    "    filter_string=\"\",  # no filter\n",
    "    order_by=[\"metrics.`validation-rmse` ASC\"],\n",
    "    max_results=1\n",
    ")\n",
    "\n",
    "if not runs:\n",
    "    raise ValueError(\"No runs found with 'validation-rmse' metric.\")\n",
    "\n",
    "best_run = runs[0]\n",
    "best_rmse = best_run.data.metrics[\"validation-rmse\"]\n",
    "\n",
    "print(f\"Best validation RMSE: {best_rmse}\")\n",
    "print(f\"Run ID: {best_run.info.run_id}\")\n"
   ]
  },
  {
   "cell_type": "markdown",
   "id": "eb51f39a-e37e-4704-9eac-807544dbdfa1",
   "metadata": {},
   "source": [
    "## Question 6"
   ]
  },
  {
   "cell_type": "code",
   "execution_count": 15,
   "id": "e996996f-4c56-49df-86ec-04a9b15094a2",
   "metadata": {},
   "outputs": [
    {
     "name": "stdout",
     "output_type": "stream",
     "text": [
      "2025/06/07 13:02:10 WARNING mlflow.utils.autologging_utils: MLflow sklearn autologging is known to be compatible with 0.24.1 <= scikit-learn <= 1.6.1, but the installed version is 1.7.0. If you encounter errors during autologging, try upgrading / downgrading scikit-learn to a compatible version, or try upgrading MLflow.\n",
      "2025/06/07 13:02:20 WARNING mlflow.utils.environment: Failed to resolve installed pip version. ``pip`` will be added to conda.yaml environment spec without a version specifier.\n",
      "🏃 View run amazing-shark-563 at: http://127.0.0.1:5000/#/experiments/2/runs/40abcede2e7442948d0079c0ebf3a98d\n",
      "🧪 View experiment at: http://127.0.0.1:5000/#/experiments/2\n",
      "2025/06/07 13:02:30 WARNING mlflow.utils.environment: Failed to resolve installed pip version. ``pip`` will be added to conda.yaml environment spec without a version specifier.\n",
      "🏃 View run unleashed-eel-128 at: http://127.0.0.1:5000/#/experiments/2/runs/ae6bf083682048d8b603bc257e020506\n",
      "🧪 View experiment at: http://127.0.0.1:5000/#/experiments/2\n",
      "2025/06/07 13:02:37 WARNING mlflow.utils.environment: Failed to resolve installed pip version. ``pip`` will be added to conda.yaml environment spec without a version specifier.\n",
      "🏃 View run carefree-ape-714 at: http://127.0.0.1:5000/#/experiments/2/runs/28f99ca742484eb9857dc57b6032d233\n",
      "🧪 View experiment at: http://127.0.0.1:5000/#/experiments/2\n",
      "2025/06/07 13:02:46 WARNING mlflow.utils.environment: Failed to resolve installed pip version. ``pip`` will be added to conda.yaml environment spec without a version specifier.\n",
      "🏃 View run dazzling-loon-144 at: http://127.0.0.1:5000/#/experiments/2/runs/791ce352164c4fe7acdcace4512167a8\n",
      "🧪 View experiment at: http://127.0.0.1:5000/#/experiments/2\n",
      "2025/06/07 13:02:57 WARNING mlflow.utils.environment: Failed to resolve installed pip version. ``pip`` will be added to conda.yaml environment spec without a version specifier.\n",
      "🏃 View run capable-dolphin-721 at: http://127.0.0.1:5000/#/experiments/2/runs/db25f3fb7efe4cfbb5b2988a36388588\n",
      "🧪 View experiment at: http://127.0.0.1:5000/#/experiments/2\n",
      "best_model test_rmse: 5.567408012462019\n",
      "Registered model 'best_model' already exists. Creating a new version of this model...\n",
      "2025/06/07 13:02:59 INFO mlflow.store.model_registry.abstract_store: Waiting up to 300 seconds for model version to finish creation. Model name: best_model, version 3\n",
      "Created version '3' of model 'best_model'.\n"
     ]
    }
   ],
   "source": [
    "!python register_model.py"
   ]
  },
  {
   "cell_type": "code",
   "execution_count": null,
   "id": "9f434f57-e13e-461c-b3cd-9c59d3ee7987",
   "metadata": {},
   "outputs": [],
   "source": []
  }
 ],
 "metadata": {
  "kernelspec": {
   "display_name": "Python 3 (ipykernel)",
   "language": "python",
   "name": "python3"
  },
  "language_info": {
   "codemirror_mode": {
    "name": "ipython",
    "version": 3
   },
   "file_extension": ".py",
   "mimetype": "text/x-python",
   "name": "python",
   "nbconvert_exporter": "python",
   "pygments_lexer": "ipython3",
   "version": "3.12.1"
  }
 },
 "nbformat": 4,
 "nbformat_minor": 5
}
