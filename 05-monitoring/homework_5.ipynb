{
 "cells": [
  {
   "cell_type": "markdown",
   "id": "7bf05e7e",
   "metadata": {},
   "source": [
    "# Homework 5"
   ]
  },
  {
   "cell_type": "code",
   "execution_count": 144,
   "id": "7320039b",
   "metadata": {},
   "outputs": [],
   "source": [
    "import requests\n",
    "import datetime\n",
    "import pandas as pd\n",
    "from datetime import datetime\n",
    "\n",
    "from evidently.ui.workspace import Workspace\n",
    "from evidently import Report, Regression\n",
    "from evidently.metrics import QuantileValue, MeanValue, ValueDrift\n",
    "from evidently import Dataset\n",
    "from evidently import DataDefinition\n",
    "from evidently.presets import DataDriftPreset, DataSummaryPreset \n",
    "\n",
    "from evidently.sdk.models import PanelMetric\n",
    "from evidently.sdk.panels import DashboardPanelPlot\n",
    "\n",
    "from joblib import load, dump\n",
    "from tqdm import tqdm\n",
    "\n",
    "from sklearn.linear_model import LinearRegression\n",
    "from sklearn.metrics import mean_absolute_error, mean_absolute_percentage_error"
   ]
  },
  {
   "cell_type": "markdown",
   "id": "1ed862b9-7bde-4225-885f-3b26479f8490",
   "metadata": {},
   "source": [
    "## Question 1"
   ]
  },
  {
   "cell_type": "code",
   "execution_count": 116,
   "id": "d384ae6a-5383-4f16-8636-b17f76181499",
   "metadata": {},
   "outputs": [
    {
     "name": "stdout",
     "output_type": "stream",
     "text": [
      "mkdir: data: File exists\n"
     ]
    }
   ],
   "source": [
    "!mkdir data"
   ]
  },
  {
   "cell_type": "code",
   "execution_count": 117,
   "id": "ebcd8eb5",
   "metadata": {},
   "outputs": [
    {
     "name": "stdout",
     "output_type": "stream",
     "text": [
      "Download files:\n"
     ]
    },
    {
     "name": "stderr",
     "output_type": "stream",
     "text": [
      "green_tripdata_2022-01.parquet: 100%|█| 1254291/1254291 [00:02<00:00, 441408.54i\n",
      "green_tripdata_2022-02.parquet: 100%|█| 1428262/1428262 [00:03<00:00, 455121.26i\n",
      "green_tripdata_2022-03.parquet: 100%|█| 1615562/1615562 [00:03<00:00, 448566.35i\n"
     ]
    }
   ],
   "source": [
    "files = [('green_tripdata_2022-01.parquet', './data'), \n",
    "         ('green_tripdata_2022-02.parquet', './data'),\n",
    "         ('green_tripdata_2022-03.parquet', './data')]\n",
    "\n",
    "print(\"Download files:\")\n",
    "for file, path in files:\n",
    "    url=f\"https://d37ci6vzurychx.cloudfront.net/trip-data/{file}\"\n",
    "    resp=requests.get(url, stream=True)\n",
    "    save_path=f\"{path}/{file}\"\n",
    "    with open(save_path, \"wb\") as handle:\n",
    "        for data in tqdm(resp.iter_content(),\n",
    "                        desc=f\"{file}\",\n",
    "                        postfix=f\"save to {save_path}\",\n",
    "                        total=int(resp.headers[\"Content-Length\"])):\n",
    "            handle.write(data)"
   ]
  },
  {
   "cell_type": "code",
   "execution_count": 118,
   "id": "0580f85c-0f6c-4ae1-9916-62587e705886",
   "metadata": {},
   "outputs": [
    {
     "name": "stdout",
     "output_type": "stream",
     "text": [
      "Number of rows: 78537\n"
     ]
    }
   ],
   "source": [
    "df = pd.read_parquet('data/green_tripdata_2022-03.parquet')\n",
    "\n",
    "print(f'Number of rows: {len(df)}')"
   ]
  },
  {
   "cell_type": "code",
   "execution_count": 119,
   "id": "f2934d16",
   "metadata": {},
   "outputs": [],
   "source": [
    "\n",
    "def transform(df):\n",
    "    # create target\n",
    "    df[\"duration_min\"] = df.lpep_dropoff_datetime - df.lpep_pickup_datetime\n",
    "    df.duration_min = df.duration_min.apply(lambda td : float(td.total_seconds())/60)\n",
    "\n",
    "    # filter out outliers\n",
    "    df = df[(df.duration_min >= 0) & (df.duration_min <= 60)]\n",
    "    df = df[(df.passenger_count > 0) & (df.passenger_count <= 8)]\n",
    "\n",
    "    return df\n"
   ]
  },
  {
   "cell_type": "code",
   "execution_count": 120,
   "id": "e40dff98",
   "metadata": {},
   "outputs": [],
   "source": [
    "\n",
    "def train(df, target, num_features, cat_features):\n",
    "\n",
    "    train_data = df[:30000]\n",
    "    val_data = df[30000:]\n",
    "\n",
    "    model = LinearRegression()\n",
    "    model.fit(train_data[num_features + cat_features], train_data[target])\n",
    "\n",
    "    return model, train_data, val_data\n",
    "\n",
    "\n",
    "def add_predictions(df, model, num_features, cat_features):\n",
    "\n",
    "    preds = model.predict(df[num_features + cat_features])\n",
    "    df['prediction'] = preds\n",
    "\n",
    "    return df\n",
    "\n",
    "\n",
    "def save_model(model):\n",
    "    with open('models/lin_reg.bin', 'wb') as f_out:\n",
    "        dump(model, f_out)\n"
   ]
  },
  {
   "cell_type": "markdown",
   "id": "ad59af14-5440-4d00-a068-04dd5895d997",
   "metadata": {},
   "source": [
    "### Train on jan"
   ]
  },
  {
   "cell_type": "code",
   "execution_count": 121,
   "id": "05a265a0",
   "metadata": {},
   "outputs": [],
   "source": [
    " \n",
    "df = pd.read_parquet('data/green_tripdata_2022-01.parquet')\n",
    "\n",
    "target = \"duration_min\"\n",
    "num_features = [\"passenger_count\", \"trip_distance\", \"fare_amount\", \"total_amount\"]\n",
    "cat_features = [\"PULocationID\", \"DOLocationID\"]\n",
    "\n",
    "df = transform(df)\n",
    "model, train_data, val_data = train(df, target, num_features, cat_features)\n",
    "train_data = add_predictions(train_data, model, num_features, cat_features)\n",
    "val_data = add_predictions(val_data, model, num_features, cat_features)\n",
    "\n",
    "save_model(model)"
   ]
  },
  {
   "cell_type": "code",
   "execution_count": 122,
   "id": "0baed5ae",
   "metadata": {},
   "outputs": [
    {
     "name": "stdout",
     "output_type": "stream",
     "text": [
      "3.804665373785063\n",
      "4.142064073688449\n"
     ]
    }
   ],
   "source": [
    "print(mean_absolute_error(train_data.duration_min, train_data.prediction))\n",
    "print(mean_absolute_error(val_data.duration_min, val_data.prediction))"
   ]
  },
  {
   "cell_type": "markdown",
   "id": "86321bab-787d-4c23-819f-f36fe15b0576",
   "metadata": {},
   "source": [
    "### Eval other months "
   ]
  },
  {
   "cell_type": "code",
   "execution_count": 123,
   "id": "dfb4068b",
   "metadata": {},
   "outputs": [],
   "source": [
    "\n",
    "feb_df = pd.read_parquet('data/green_tripdata_2022-02.parquet')\n",
    "feb_df = transform(feb_df)\n",
    "feb_df = add_predictions(feb_df, model, num_features, cat_features)\n",
    "\n",
    "march_df = pd.read_parquet('data/green_tripdata_2022-03.parquet')\n",
    "march_df = transform(march_df)\n",
    "march_df = add_predictions(march_df, model, num_features, cat_features)"
   ]
  },
  {
   "cell_type": "markdown",
   "id": "a195b327",
   "metadata": {},
   "source": [
    "## Question 2/3/4"
   ]
  },
  {
   "cell_type": "code",
   "execution_count": 147,
   "id": "bfeaf20c-819a-445d-9db4-5119a1ec05bb",
   "metadata": {},
   "outputs": [],
   "source": [
    "ws = Workspace(\"workspace\")\n",
    "project = ws.create_project(\"MLOPS zoomcamp\")\n",
    "project.description = \"Homework 5 - monitoring\"\n",
    "project.save()"
   ]
  },
  {
   "cell_type": "code",
   "execution_count": 148,
   "id": "56d961e2-942f-4343-8077-a5edfc28f582",
   "metadata": {},
   "outputs": [],
   "source": [
    "schema = DataDefinition(\n",
    "    numerical_columns=num_features + [\"prediction\"],\n",
    "    categorical_columns=cat_features,\n",
    "    regression=[Regression(target=\"duration_min\", prediction=\"prediction\")]\n",
    "    )\n",
    "\n",
    "train_dataset = Dataset.from_pandas(\n",
    "    train_data,\n",
    "    data_definition=schema\n",
    ")\n",
    "\n",
    "eval_dataset = Dataset.from_pandas(\n",
    "    val_data,\n",
    "    data_definition=schema\n",
    ")\n",
    "\n",
    "feb_dataset = Dataset.from_pandas(\n",
    "    feb_df,\n",
    "    data_definition=schema\n",
    ")\n",
    "\n",
    "march_dataset = Dataset.from_pandas(\n",
    "    march_df,\n",
    "    data_definition=schema\n",
    ")\n",
    "\n",
    "report = Report([\n",
    "    DataDriftPreset(), \n",
    "    QuantileValue(column='fare_amount'),\n",
    "    MeanValue(column='trip_distance'),\n",
    "    ValueDrift(column=\"prediction\")\n",
    "])\n",
    "\n",
    "eval_jan = report.run(reference_data=train_dataset, current_data=eval_dataset, timestamp=datetime(2023, 1, 31))\n",
    "\n",
    "# February evaluation\n",
    "report_feb = Report([\n",
    "    DataDriftPreset(),\n",
    "    QuantileValue(column='fare_amount'),\n",
    "    MeanValue(column='trip_distance'),\n",
    "    ValueDrift(column=\"prediction\")\n",
    "])\n",
    "eval_feb = report_feb.run(reference_data=train_dataset, current_data=feb_dataset, timestamp=datetime(2023, 2, 28))\n",
    "\n",
    "# March evaluation\n",
    "report_mar = Report([\n",
    "    DataDriftPreset(),\n",
    "    QuantileValue(column='fare_amount'),\n",
    "    MeanValue(column='trip_distance'),\n",
    "    ValueDrift(column=\"prediction\")\n",
    "])\n",
    "eval_mar = report_mar.run(reference_data=train_dataset, current_data=march_dataset, timestamp=datetime(2023, 3, 31))\n",
    "\n",
    "ws.add_run(project.id, eval_jan, include_data=False)\n",
    "ws.add_run(project.id, eval_feb, include_data=False)\n",
    "ws.add_run(project.id, eval_mar, include_data=False)\n",
    "\n",
    "project.dashboard.add_panel(\n",
    "             DashboardPanelPlot(\n",
    "                title=\"Dataset column drift\",\n",
    "                subtitle = \"Share of drifted columns\",\n",
    "                size=\"half\",\n",
    "                values=[\n",
    "                    PanelMetric(\n",
    "                        legend=\"Share\",\n",
    "                        metric=\"DriftedColumnsCount\",\n",
    "                        metric_labels={\"value_type\": \"share\"} \n",
    "                    ),\n",
    "                ],\n",
    "                plot_params={\"plot_type\": \"line\"},\n",
    "            ),\n",
    "            tab=\"Data Drift\",\n",
    "        )\n",
    "project.dashboard.add_panel(\n",
    "             DashboardPanelPlot(\n",
    "                title=\"Prediction drift\",\n",
    "                subtitle = \"\"\"Drift in the prediction column (\"prediction\"), method: Jensen-Shannon distance\"\"\",\n",
    "                size=\"half\",\n",
    "                values=[\n",
    "                    PanelMetric(\n",
    "                        legend=\"Drift score\",\n",
    "                        metric=\"ValueDrift\",\n",
    "                        metric_labels={\"column\": \"prediction\"} \n",
    "                    ),\n",
    "                ],\n",
    "                plot_params={\"plot_type\": \"bar\"},\n",
    "            ),\n",
    "            tab=\"Data Drift\",\n",
    "        )\n",
    "\n",
    "project.dashboard.add_panel(\n",
    "    DashboardPanelPlot(\n",
    "        title=\"Fare Amount - 50th Percentile\",\n",
    "        subtitle=\"Median fare amount over time\",\n",
    "        size=\"half\",\n",
    "        values=[\n",
    "            PanelMetric(\n",
    "                legend=\"Median\",\n",
    "                metric=\"QuantileValue\",\n",
    "                metric_labels={\n",
    "                    \"column\": \"fare_amount\",\n",
    "                    \"quantile\": \"0.5\"\n",
    "                }\n",
    "            )\n",
    "        ],\n",
    "        plot_params={\"plot_type\": \"line\"},\n",
    "    ),\n",
    "    tab=\"Feature Stats\",\n",
    ")\n",
    "\n",
    "project.dashboard.add_panel(\n",
    "    DashboardPanelPlot(\n",
    "        title=\"Trip Distance - Mean\",\n",
    "        subtitle=\"Average trip distance over time\",\n",
    "        size=\"half\",\n",
    "        values=[\n",
    "            PanelMetric(\n",
    "                legend=\"Mean\",\n",
    "                metric=\"MeanValue\",\n",
    "                metric_labels={\n",
    "                    \"column\": \"trip_distance\"\n",
    "                }\n",
    "            )\n",
    "        ],\n",
    "        plot_params={\"plot_type\": \"line\"},\n",
    "    ),\n",
    "    tab=\"Feature Stats\",\n",
    ")\n",
    "project.save()\n"
   ]
  },
  {
   "cell_type": "code",
   "execution_count": 128,
   "id": "826ecf52-8cd7-4ce1-8f23-c942751a2f32",
   "metadata": {},
   "outputs": [],
   "source": [
    "\n"
   ]
  }
 ],
 "metadata": {
  "kernelspec": {
   "display_name": "project",
   "language": "python",
   "name": "project"
  },
  "language_info": {
   "codemirror_mode": {
    "name": "ipython",
    "version": 3
   },
   "file_extension": ".py",
   "mimetype": "text/x-python",
   "name": "python",
   "nbconvert_exporter": "python",
   "pygments_lexer": "ipython3",
   "version": "3.12.10"
  }
 },
 "nbformat": 4,
 "nbformat_minor": 5
}
