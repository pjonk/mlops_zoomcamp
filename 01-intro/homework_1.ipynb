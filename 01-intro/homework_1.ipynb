{
 "cells": [
  {
   "cell_type": "markdown",
   "id": "683a1297-4662-40f0-8ac6-292e55da3a23",
   "metadata": {},
   "source": [
    "# Homework 1"
   ]
  },
  {
   "cell_type": "markdown",
   "id": "f5a41662-8239-489e-ae78-59273d95602a",
   "metadata": {},
   "source": [
    "## Question 1"
   ]
  },
  {
   "cell_type": "code",
   "execution_count": 1,
   "id": "b65e24cb-c0b0-414b-a80e-1e62e1bf4aec",
   "metadata": {},
   "outputs": [],
   "source": [
    "import pandas as pd\n",
    "import numpy as np\n",
    "\n",
    "from sklearn.feature_extraction import DictVectorizer\n",
    "from sklearn.linear_model import LinearRegression\n",
    "from sklearn.linear_model import Lasso\n",
    "from sklearn.linear_model import Ridge\n",
    "\n",
    "from sklearn.metrics import root_mean_squared_error"
   ]
  },
  {
   "cell_type": "code",
   "execution_count": 2,
   "id": "f87d2a3c-4a0d-437b-b616-8c28d7cb4b01",
   "metadata": {},
   "outputs": [
    {
     "data": {
      "text/plain": [
       "19"
      ]
     },
     "execution_count": 2,
     "metadata": {},
     "output_type": "execute_result"
    }
   ],
   "source": [
    "df = pd.read_parquet('data/yellow_tripdata_2023-01.parquet')\n",
    "\n",
    "len(df.columns)"
   ]
  },
  {
   "cell_type": "markdown",
   "id": "414c6181-1652-4bdb-8647-fa0f9787cdb7",
   "metadata": {},
   "source": [
    "## Question 2"
   ]
  },
  {
   "cell_type": "code",
   "execution_count": 3,
   "id": "d37fa2f8-b49e-4c40-930a-147fe9189534",
   "metadata": {},
   "outputs": [
    {
     "data": {
      "text/plain": [
       "np.float64(42.59435124195458)"
      ]
     },
     "execution_count": 3,
     "metadata": {},
     "output_type": "execute_result"
    }
   ],
   "source": [
    "df['duration'] = df.tpep_dropoff_datetime - df.tpep_pickup_datetime\n",
    "df.duration = df.duration.apply(lambda td: td.total_seconds() / 60)\n",
    "df.duration.std()"
   ]
  },
  {
   "cell_type": "markdown",
   "id": "5bc2ee1f-ccf6-4512-9f8c-af1d36dd8cb3",
   "metadata": {},
   "source": [
    "## Question 3"
   ]
  },
  {
   "cell_type": "code",
   "execution_count": 4,
   "id": "dbde04dd-b61f-40da-b8cd-13fc0c5ebe31",
   "metadata": {},
   "outputs": [
    {
     "data": {
      "text/plain": [
       "'fraction left = 98.0%'"
      ]
     },
     "execution_count": 4,
     "metadata": {},
     "output_type": "execute_result"
    }
   ],
   "source": [
    "len_total = len(df.index)\n",
    "\n",
    "df = df[(df.duration >= 1) & (df.duration <= 60)]\n",
    "\n",
    "len_filtered = len(df.index)\n",
    "\n",
    "f'fraction left = {np.round(100*len_filtered/len_total)}%'"
   ]
  },
  {
   "cell_type": "markdown",
   "id": "4c962695-2e66-4369-8aca-2734804b1314",
   "metadata": {},
   "source": [
    "## Question 4"
   ]
  },
  {
   "cell_type": "code",
   "execution_count": 5,
   "id": "fd6bca32-2b89-4b2c-ab96-8a15a5c15a0c",
   "metadata": {},
   "outputs": [
    {
     "data": {
      "text/plain": [
       "<Compressed Sparse Row sparse matrix of dtype 'float64'\n",
       "\twith 6018346 stored elements and shape (3009173, 515)>"
      ]
     },
     "execution_count": 5,
     "metadata": {},
     "output_type": "execute_result"
    }
   ],
   "source": [
    "features = ['PULocationID', 'DOLocationID']\n",
    "\n",
    "df[features] = df[features].astype(str)\n",
    "\n",
    "train_dicts = df[features].to_dict(orient='records')\n",
    "\n",
    "dv = DictVectorizer()\n",
    "X_train = dv.fit_transform(train_dicts)\n",
    "\n",
    "X_train"
   ]
  },
  {
   "cell_type": "markdown",
   "id": "5d3b77ad-847d-486c-b55c-75ca9b761f5d",
   "metadata": {},
   "source": [
    "## Question 5"
   ]
  },
  {
   "cell_type": "code",
   "execution_count": 6,
   "id": "4c13b39f-9be2-46d5-819c-cf3d12d56b6f",
   "metadata": {},
   "outputs": [
    {
     "data": {
      "text/plain": [
       "7.649261946248764"
      ]
     },
     "execution_count": 6,
     "metadata": {},
     "output_type": "execute_result"
    }
   ],
   "source": [
    "target = 'duration'\n",
    "y_train = df[target].values\n",
    "\n",
    "lr = LinearRegression()\n",
    "lr.fit(X_train, y_train)\n",
    "\n",
    "y_pred = lr.predict(X_train)\n",
    "\n",
    "root_mean_squared_error(y_train, y_pred)"
   ]
  },
  {
   "cell_type": "markdown",
   "id": "25b802b6-3383-49c5-8217-5e403ed8ac9b",
   "metadata": {},
   "source": [
    "## Question 6"
   ]
  },
  {
   "cell_type": "code",
   "execution_count": 7,
   "id": "35b973df-2eb0-4b11-a0fb-4f8a2d7691f4",
   "metadata": {},
   "outputs": [
    {
     "data": {
      "text/plain": [
       "7.811817544074326"
      ]
     },
     "execution_count": 7,
     "metadata": {},
     "output_type": "execute_result"
    }
   ],
   "source": [
    "# Prepare test dataset\n",
    "df = pd.read_parquet('data/yellow_tripdata_2023-02.parquet')\n",
    "\n",
    "df['duration'] = df.tpep_dropoff_datetime - df.tpep_pickup_datetime\n",
    "df.duration = df.duration.apply(lambda td: td.total_seconds() / 60)\n",
    "df = df[(df.duration >= 1) & (df.duration <= 60)]\n",
    "\n",
    "features = ['PULocationID', 'DOLocationID']\n",
    "df[features] = df[features].astype(str)\n",
    "test_dicts = df[features].to_dict(orient='records')\n",
    "X_test = dv.transform(test_dicts)\n",
    "\n",
    "target = 'duration'\n",
    "y_test = df[target].values\n",
    "\n",
    "y_pred = lr.predict(X_test)\n",
    "\n",
    "root_mean_squared_error(y_test, y_pred)"
   ]
  },
  {
   "cell_type": "code",
   "execution_count": 8,
   "id": "ac310e4c-f55d-4130-8f40-043d14d86d09",
   "metadata": {},
   "outputs": [],
   "source": [
    "from pathlib import Path\n",
    "import pickle\n",
    "\n",
    "folder = Path('./artifacts')\n",
    "folder.mkdir(parents=True, exist_ok=True)\n",
    "\n",
    "with open('artifacts/dv.bin', 'wb') as f:\n",
    "    pickle.dump(dv, f)\n",
    "\n",
    "with open('artifacts/model.bin', 'wb') as f:\n",
    "    pickle.dump(lr, f)"
   ]
  },
  {
   "cell_type": "code",
   "execution_count": null,
   "id": "1cdf0ba4-f4d8-4e02-aa92-27698dc861e8",
   "metadata": {},
   "outputs": [],
   "source": []
  }
 ],
 "metadata": {
  "kernelspec": {
   "display_name": "Python 3 (ipykernel)",
   "language": "python",
   "name": "python3"
  },
  "language_info": {
   "codemirror_mode": {
    "name": "ipython",
    "version": 3
   },
   "file_extension": ".py",
   "mimetype": "text/x-python",
   "name": "python",
   "nbconvert_exporter": "python",
   "pygments_lexer": "ipython3",
   "version": "3.12.10"
  }
 },
 "nbformat": 4,
 "nbformat_minor": 5
}
